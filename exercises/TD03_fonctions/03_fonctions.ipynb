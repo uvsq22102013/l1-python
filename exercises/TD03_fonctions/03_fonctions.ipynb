{
 "cells": [
  {
   "cell_type": "markdown",
   "metadata": {},
   "source": [
    "# Instructions Générales\n",
    "\n",
    "Ce TD est à faire en créant un fichier td3.py, que vous éditerez dans VSCode. \n",
    "Vous ne remplirez pas les cellules de ce notebook, mais vous les copierez au fur et à mesure \n",
    "dans votre fichier pour les compléter.\n",
    "\n",
    "Vous respecterez au mieux les règles d'écriture de code, en particulier chaque fonction devra avoir un **docstring** et des commentaires si nécessaire et les noms de variable seront illustratifs de leur usage. Vous utiliserez les outils de débogage (flake8, mypy, debugger, pythontutor ...) pour corriger vos bogues."
   ]
  },
  {
   "cell_type": "markdown",
   "metadata": {},
   "source": [
    "# Gestion du temps\n",
    "\n",
    "Nous allons créer un petit logiciel de gestion du temps et des dates.\n",
    "Pour cela nous aurons besoin de créer un certain nombre de fonctions utilitaires.\n",
    "\n",
    "Un temps a le format suivant: (jour: int, heure: int, minute: int, seconde: int).\n",
    "C'est un tuple de 4 éléments. Par exemple (4, 3, 13, 20) correspond à 4 jours, 3 heures, 13 minutes et 20 secondes.\n",
    "Si on a une variable temps = (4, 3, 13, 20), pour accéder au premier élément on fait temps\\[0\\] ce qui donne 4,\n",
    "le nombre de jours.\n",
    "\n",
    "Créer la fonction qui prend comme argument le temps et renvoie le nombre de seconde total correspondant à ce temps.\n",
    "Créer la fonction qui prend un nombre de secondes et renvoie le temps correspondant."
   ]
  },
  {
   "cell_type": "code",
   "execution_count": 10,
   "metadata": {},
   "outputs": [
    {
     "name": "stdout",
     "output_type": "stream",
     "text": [
      "<class 'tuple'>\n",
      "342094\n",
      "1 jours 3 heures 46 minutes 40 secondes\n"
     ]
    }
   ],
   "source": [
    "#temps[0] : jours, temps[1]: heures, temps[2]: minutes, temps[3]: secondes\n",
    "\n",
    "def tempsEnSeconde(temps):\n",
    "    \"\"\" Renvoie la valeur en seconde de temps donné comme jour, heure, minute, seconde.\"\"\"\n",
    "    return temps[0]*24*60*60 + temps[1]*60*60 + temps[2]*60 + temps[3]\n",
    "\n",
    "temps = (3,23,1,34)\n",
    "print(type(temps))\n",
    "print(tempsEnSeconde(temps))   \n",
    "\n",
    "def secondeEnTemps(seconde):\n",
    "    \"\"\"Renvoie le temps (jour, heure, minute, seconde) qui correspond au nombre de seconde passé en argument\"\"\"\n",
    "    j = seconde // 86400\n",
    "    seconde = seconde - j*86400\n",
    "    h = seconde // 3600\n",
    "    seconde = seconde - h * 3600\n",
    "    m = seconde // 60\n",
    "    s = seconde - m*60\n",
    "    return(j,h,m,s)\n",
    "\n",
    "    \n",
    "temps = secondeEnTemps(100000)\n",
    "print(temps[0],\"jours\",temps[1],\"heures\",temps[2],\"minutes\",temps[3],\"secondes\")"
   ]
  },
  {
   "cell_type": "markdown",
   "metadata": {},
   "source": [
    "Créer une fonction d'affichage d'un temps `afficheTemps`. Attention, les mots jour, heure et seconde doivent être au pluriel s'il y en a plusieurs. S'il y en a zéro, ils ne doivent pas apparaître.\n",
    "`print(message, end=\"\")` permet de ne pas sauter une ligne après un print. \n",
    "Vous pouvez écrire une fonction qui affiche un mot au pluriel ou non, appelée ensuite plusieurs fois par `afficheTemps` pour simplifier votre code.\n"
   ]
  },
  {
   "cell_type": "code",
   "execution_count": 3,
   "metadata": {},
   "outputs": [
    {
     "name": "stdout",
     "output_type": "stream",
     "text": [
      "3 jours 6 heures 4 minutes 32 secondes "
     ]
    }
   ],
   "source": [
    "#fonction auxiliaire ici\n",
    "\n",
    "def afficheTemps(temps):\n",
    "    if temps[0] == 1:\n",
    "        print(temps[0],\"jour \", end=\"\")\n",
    "    elif temps[0] > 1:\n",
    "        print(temps[0],\"jours \", end=\"\")\n",
    "    if temps[1] == 1:\n",
    "        print(temps[1],\"heure \", end=\"\")\n",
    "    elif temps[1] > 1:\n",
    "        print(temps[1],\"heures \", end=\"\")\n",
    "    if temps[2] == 1:\n",
    "        print(temps[2],\"minute \", end=\"\")\n",
    "    elif temps[2] > 1:\n",
    "        print(temps[2],\"minutes \", end=\"\")\n",
    "    if temps[3] == 1:\n",
    "        print(temps[3],\"seconde \", end=\"\")\n",
    "    elif temps[3] > 1:\n",
    "        print(temps[3],\"secondes \", end=\"\")\n",
    "\n",
    "afficheTemps((3,6,4,32))    "
   ]
  },
  {
   "cell_type": "markdown",
   "metadata": {},
   "source": [
    "Ecrire une fonction qui demande à l'utilisateur de rentrer un nombre de jours, d'heures, de minutes et\n",
    "de secondes et qui renvoie un temps. Attention, si l'entrée utilisateur n'est pas correcte, par exemple 80 minutes,\n",
    "afficher un message d'erreur et s'arrêter.\n",
    "\n",
    "(Optionnel) Au lieu d'arêter le programme, demander de rentrer une nouvelle valeur, tant que \n",
    "ce n'est pas une valeur correcte."
   ]
  },
  {
   "cell_type": "code",
   "execution_count": 41,
   "metadata": {},
   "outputs": [
    {
     "name": "stdout",
     "output_type": "stream",
     "text": [
      "2 jours 3 heures 34 minutes 34 secondes "
     ]
    }
   ],
   "source": [
    "def demandeTemps():\n",
    "    j = int(input(\"jours\"))\n",
    "    h = int(input(\"heures\"))\n",
    "    m = int(input(\"minutes\"))\n",
    "    s = int(input(\"secondes\"))\n",
    "    if m < 60 and s < 60 and h < 24:\n",
    "        time = [j,h,m,s]\n",
    "    return time\n",
    "\n",
    "\n",
    "afficheTemps(demandeTemps())"
   ]
  },
  {
   "cell_type": "markdown",
   "metadata": {},
   "source": [
    "On veut être capable d'additionner deux temps. Donner une fonction qui fait ce calcul,\n",
    "en utilisant les fonctions précédentes."
   ]
  },
  {
   "cell_type": "code",
   "execution_count": 6,
   "metadata": {},
   "outputs": [
    {
     "name": "stdout",
     "output_type": "stream",
     "text": [
      "8 jours 2 heures 1 minute 26 secondes "
     ]
    }
   ],
   "source": [
    "def sommeTemps(temps1,temps2):\n",
    "    return(secondeEnTemps(tempsEnSeconde(temps1) + tempsEnSeconde(temps2)))\n",
    "    \n",
    "\n",
    "afficheTemps(sommeTemps((2,3,4,25),(5,22,57,1)))"
   ]
  },
  {
   "cell_type": "markdown",
   "metadata": {},
   "source": [
    "On veut maintenant calculer un pourcentage d'un temps. Par exemple, 20% de\n",
    "2 jours et 36 minutes correspond à 9 heures, 43 minutes et 12 secondes.\n",
    "\n",
    "Implémenter la fonction `proportionTemps` puis appeler cette fonction en échangeant l'ordre des arguments mais en les nommant."
   ]
  },
  {
   "cell_type": "code",
   "execution_count": 42,
   "metadata": {},
   "outputs": [
    {
     "name": "stdout",
     "output_type": "stream",
     "text": [
      "19 heures 58 minutes 54 secondes "
     ]
    }
   ],
   "source": [
    "def proportionTemps(temps,proportion):\n",
    "    e = int(tempsEnSeconde(temps) * proportion)\n",
    "    tmps = secondeEnTemps(e)\n",
    "    return(tmps)\n",
    "    \n",
    "afficheTemps(proportionTemps((4,3,54,30),0.2))\n",
    "#appeler la fonction en échangeant l'ordre des arguments"
   ]
  },
  {
   "cell_type": "markdown",
   "metadata": {},
   "source": [
    "On veut maintenant afficher un temps sous forme de date, en supposant \n",
    "que le temps 0 est le 1 janvier 1970 à 00:00:00.\n",
    "\n",
    "* Implémenter une fonction `tempsEnDate`qui donne la date sous la forme (année, jour, heure, minute, seconde).\n",
    "* Implémenter la fonction `afficheDate`qui affiche la date. \n",
    "* (Optionnel) Gérer également les mois."
   ]
  },
  {
   "cell_type": "code",
   "execution_count": 15,
   "metadata": {},
   "outputs": [
    {
     "name": "stdout",
     "output_type": "stream",
     "text": [
      "11574 jours 1 heure 46 minutes 40 secondes \n",
      "\n",
      "17 septembre 2001 à 1 : 46 : 40\n"
     ]
    },
    {
     "ename": "TypeError",
     "evalue": "'int' object is not subscriptable",
     "output_type": "error",
     "traceback": [
      "\u001b[0;31m---------------------------------------------------------------------------\u001b[0m",
      "\u001b[0;31mTypeError\u001b[0m                                 Traceback (most recent call last)",
      "\u001b[0;32m/var/folders/4k/869gzmf94d951lsf4c2gvb8c0000gn/T/ipykernel_744/3737693353.py\u001b[0m in \u001b[0;36m<module>\u001b[0;34m\u001b[0m\n\u001b[1;32m     45\u001b[0m \u001b[0mprint\u001b[0m\u001b[0;34m(\u001b[0m\u001b[0;34m\"\\n\"\u001b[0m\u001b[0;34m)\u001b[0m\u001b[0;34m\u001b[0m\u001b[0;34m\u001b[0m\u001b[0m\n\u001b[1;32m     46\u001b[0m \u001b[0mafficheDate\u001b[0m\u001b[0;34m(\u001b[0m\u001b[0mtempsEnDate\u001b[0m\u001b[0;34m(\u001b[0m\u001b[0mtemps\u001b[0m\u001b[0;34m)\u001b[0m\u001b[0;34m)\u001b[0m\u001b[0;34m\u001b[0m\u001b[0;34m\u001b[0m\u001b[0m\n\u001b[0;32m---> 47\u001b[0;31m \u001b[0mafficheDate\u001b[0m\u001b[0;34m(\u001b[0m\u001b[0;34m)\u001b[0m\u001b[0;34m\u001b[0m\u001b[0;34m\u001b[0m\u001b[0m\n\u001b[0m",
      "\u001b[0;32m/var/folders/4k/869gzmf94d951lsf4c2gvb8c0000gn/T/ipykernel_744/3737693353.py\u001b[0m in \u001b[0;36mafficheDate\u001b[0;34m(date)\u001b[0m\n\u001b[1;32m     39\u001b[0m     \u001b[0;32mreturn\u001b[0m\u001b[0;34m(\u001b[0m\u001b[0ma\u001b[0m\u001b[0;34m,\u001b[0m \u001b[0mm\u001b[0m\u001b[0;34m,\u001b[0m \u001b[0mj\u001b[0m\u001b[0;34m,\u001b[0m \u001b[0mtemps\u001b[0m\u001b[0;34m[\u001b[0m\u001b[0;36m1\u001b[0m\u001b[0;34m]\u001b[0m\u001b[0;34m,\u001b[0m \u001b[0mtemps\u001b[0m\u001b[0;34m[\u001b[0m\u001b[0;36m2\u001b[0m\u001b[0;34m]\u001b[0m\u001b[0;34m,\u001b[0m \u001b[0mtemps\u001b[0m\u001b[0;34m[\u001b[0m\u001b[0;36m3\u001b[0m\u001b[0;34m]\u001b[0m\u001b[0;34m)\u001b[0m\u001b[0;34m\u001b[0m\u001b[0;34m\u001b[0m\u001b[0m\n\u001b[1;32m     40\u001b[0m \u001b[0;32mdef\u001b[0m \u001b[0mafficheDate\u001b[0m\u001b[0;34m(\u001b[0m\u001b[0mdate\u001b[0m \u001b[0;34m=\u001b[0m \u001b[0;34m-\u001b[0m\u001b[0;36m1\u001b[0m\u001b[0;34m)\u001b[0m\u001b[0;34m:\u001b[0m\u001b[0;34m\u001b[0m\u001b[0;34m\u001b[0m\u001b[0m\n\u001b[0;32m---> 41\u001b[0;31m     \u001b[0mprint\u001b[0m\u001b[0;34m(\u001b[0m\u001b[0mdate\u001b[0m\u001b[0;34m[\u001b[0m\u001b[0;36m2\u001b[0m\u001b[0;34m]\u001b[0m\u001b[0;34m,\u001b[0m \u001b[0mdate\u001b[0m\u001b[0;34m[\u001b[0m\u001b[0;36m1\u001b[0m\u001b[0;34m]\u001b[0m\u001b[0;34m,\u001b[0m \u001b[0mdate\u001b[0m\u001b[0;34m[\u001b[0m\u001b[0;36m0\u001b[0m\u001b[0;34m]\u001b[0m\u001b[0;34m,\u001b[0m \u001b[0;34m\"à\"\u001b[0m\u001b[0;34m,\u001b[0m \u001b[0mdate\u001b[0m\u001b[0;34m[\u001b[0m\u001b[0;36m3\u001b[0m\u001b[0;34m]\u001b[0m\u001b[0;34m,\u001b[0m \u001b[0;34m\":\"\u001b[0m\u001b[0;34m,\u001b[0m \u001b[0mdate\u001b[0m\u001b[0;34m[\u001b[0m\u001b[0;36m4\u001b[0m\u001b[0;34m]\u001b[0m\u001b[0;34m,\u001b[0m \u001b[0;34m\":\"\u001b[0m\u001b[0;34m,\u001b[0m \u001b[0mdate\u001b[0m\u001b[0;34m[\u001b[0m\u001b[0;36m5\u001b[0m\u001b[0;34m]\u001b[0m \u001b[0;34m)\u001b[0m\u001b[0;34m\u001b[0m\u001b[0;34m\u001b[0m\u001b[0m\n\u001b[0m\u001b[1;32m     42\u001b[0m \u001b[0;34m\u001b[0m\u001b[0m\n\u001b[1;32m     43\u001b[0m \u001b[0mtemps\u001b[0m \u001b[0;34m=\u001b[0m \u001b[0msecondeEnTemps\u001b[0m\u001b[0;34m(\u001b[0m\u001b[0;36m1000000000\u001b[0m\u001b[0;34m)\u001b[0m\u001b[0;34m\u001b[0m\u001b[0;34m\u001b[0m\u001b[0m\n",
      "\u001b[0;31mTypeError\u001b[0m: 'int' object is not subscriptable"
     ]
    }
   ],
   "source": [
    "def tempsEnDate(temps):\n",
    "    a = 1970 + temps[0] // 365\n",
    "    j = temps[0] - (temps[0]//365) * 365 + 1\n",
    "    if 0 < j <= 31 :\n",
    "        m = \"janvier\"\n",
    "    if 31 < j <= 60 :\n",
    "        m = \"février\"\n",
    "        j -= 31\n",
    "    if 60 < j <= 90 :\n",
    "        m = \"mars\"\n",
    "        j -= 60\n",
    "    if 90 < j <= 120 :\n",
    "        m = \"avril\"\n",
    "        j -= 90\n",
    "    if 120 < j <= 151 :\n",
    "        m = \"mai\"\n",
    "        j -= 120\n",
    "    if 151 < j <= 181 :\n",
    "        m = \"juin\"\n",
    "        j -= 151\n",
    "    if 181 < j <= 212:\n",
    "        m = \"juillet\"\n",
    "        j -= 181\n",
    "    if 212 < j <= 243 :\n",
    "        m = \"aout\"\n",
    "        j -= 212\n",
    "    if 243 < j <= 273 :\n",
    "        m = \"septembre\"\n",
    "        j -= 243\n",
    "    if 273 < j <= 304 :\n",
    "        m = \"octobre\"\n",
    "        j -= 273\n",
    "    if 304 < j <= 334 :\n",
    "        m = \"novembre\"\n",
    "        j -= 304\n",
    "    if 334 < j <= 365 :\n",
    "        m = \"décembre\"\n",
    "        j -= 334\n",
    "    return(a, m, j, temps[1], temps[2], temps[3])\n",
    "def afficheDate(date = -1):\n",
    "    print(date[2], date[1], date[0], \"à\", date[3], \":\", date[4], \":\", date[5] )\n",
    "    \n",
    "temps = secondeEnTemps(1000000000)\n",
    "afficheTemps(temps)\n",
    "print(\"\\n\")\n",
    "afficheDate(tempsEnDate(temps))\n",
    "afficheDate()"
   ]
  },
  {
   "cell_type": "markdown",
   "metadata": {},
   "source": []
  },
  {
   "cell_type": "markdown",
   "metadata": {},
   "source": [
    "Il existe des fonctions dans la librairie `time` pour la gestion du temps. En particulier, il existe\n",
    "une fonction `time` qui donne le temps écoulé depuis 1970 en secondes. \n",
    "La trouver avec la [documentation python](https://docs.python.org/fr/3/library/time.html#module-time) et la tester en utilisant `afficheDate`. \n",
    "Tester de la même manière la fonction `time.gmtime` qui réalise une tâche similaire à `tempsEnDate`.\n",
    "Que constatez vous ?"
   ]
  },
  {
   "cell_type": "code",
   "execution_count": 26,
   "metadata": {},
   "outputs": [
    {
     "name": "stdout",
     "output_type": "stream",
     "text": [
      "28 novembre 2021 à 8 : 2 : 16\n",
      "time.struct_time(tm_year=2021, tm_mon=11, tm_mday=15, tm_hour=8, tm_min=2, tm_sec=16, tm_wday=0, tm_yday=319, tm_isdst=0)\n"
     ]
    }
   ],
   "source": [
    "from time import *\n",
    "temps = secondeEnTemps(int(time()))\n",
    "afficheDate(tempsEnDate(temps))\n",
    "\n",
    "print(gmtime(int(time())))\n"
   ]
  },
  {
   "cell_type": "markdown",
   "metadata": {},
   "source": [
    "Attention, tous les 4 ans les années sont bisextiles (un jour de plus) sauf les multiples de 100 qui ne sont pas des multiples de 400.\n",
    "Donner un code qui prend un nombre de jours et affiche toutes les années bisextiles depuis 1 janvier 2020 à 00:00:00 jusqu'à la fin de ces jours."
   ]
  },
  {
   "cell_type": "code",
   "execution_count": 30,
   "metadata": {},
   "outputs": [
    {
     "data": {
      "text/plain": [
       "[1972,\n",
       " 1976,\n",
       " 1980,\n",
       " 1984,\n",
       " 1988,\n",
       " 1992,\n",
       " 1996,\n",
       " 2000,\n",
       " 2004,\n",
       " 2008,\n",
       " 2012,\n",
       " 2016,\n",
       " 2020,\n",
       " 2024]"
      ]
     },
     "execution_count": 30,
     "metadata": {},
     "output_type": "execute_result"
    }
   ],
   "source": [
    "def bisextile(jour):\n",
    "    l = []\n",
    "    a = 1970 + jour // 365\n",
    "    for i in range (1970, a+1):\n",
    "        if (i % 4 == 0 and i % 100 != 0) or i % 400 == 0 :\n",
    "            l += [i]\n",
    "    return l\n",
    "\n",
    "        \n",
    "bisextile(20000)"
   ]
  },
  {
   "cell_type": "markdown",
   "metadata": {},
   "source": [
    "Implémenter une fonction `nombreBisextile` qui calcule le nombre d'années bisextiles pour un nombre de jour donnés pour corriger votre fonction de calcul de la date."
   ]
  },
  {
   "cell_type": "code",
   "execution_count": 32,
   "metadata": {},
   "outputs": [
    {
     "name": "stdout",
     "output_type": "stream",
     "text": [
      "11574 jours 1 heure 46 minutes 40 secondes "
     ]
    },
    {
     "ename": "TypeError",
     "evalue": "'NoneType' object is not subscriptable",
     "output_type": "error",
     "traceback": [
      "\u001b[0;31m---------------------------------------------------------------------------\u001b[0m",
      "\u001b[0;31mTypeError\u001b[0m                                 Traceback (most recent call last)",
      "\u001b[0;32m/var/folders/4k/869gzmf94d951lsf4c2gvb8c0000gn/T/ipykernel_744/1637241585.py\u001b[0m in \u001b[0;36m<module>\u001b[0;34m\u001b[0m\n\u001b[1;32m     49\u001b[0m \u001b[0mtemps\u001b[0m \u001b[0;34m=\u001b[0m \u001b[0msecondeEnTemps\u001b[0m\u001b[0;34m(\u001b[0m\u001b[0;36m1000000000\u001b[0m\u001b[0;34m)\u001b[0m\u001b[0;34m\u001b[0m\u001b[0;34m\u001b[0m\u001b[0m\n\u001b[1;32m     50\u001b[0m \u001b[0mafficheTemps\u001b[0m\u001b[0;34m(\u001b[0m\u001b[0mtemps\u001b[0m\u001b[0;34m)\u001b[0m\u001b[0;34m\u001b[0m\u001b[0;34m\u001b[0m\u001b[0m\n\u001b[0;32m---> 51\u001b[0;31m \u001b[0mafficheDate\u001b[0m\u001b[0;34m(\u001b[0m\u001b[0mtempsEnDateBisextile\u001b[0m\u001b[0;34m(\u001b[0m\u001b[0mtemps\u001b[0m\u001b[0;34m)\u001b[0m\u001b[0;34m)\u001b[0m\u001b[0;34m\u001b[0m\u001b[0;34m\u001b[0m\u001b[0m\n\u001b[0m",
      "\u001b[0;32m/var/folders/4k/869gzmf94d951lsf4c2gvb8c0000gn/T/ipykernel_744/3737693353.py\u001b[0m in \u001b[0;36mafficheDate\u001b[0;34m(date)\u001b[0m\n\u001b[1;32m     39\u001b[0m     \u001b[0;32mreturn\u001b[0m\u001b[0;34m(\u001b[0m\u001b[0ma\u001b[0m\u001b[0;34m,\u001b[0m \u001b[0mm\u001b[0m\u001b[0;34m,\u001b[0m \u001b[0mj\u001b[0m\u001b[0;34m,\u001b[0m \u001b[0mtemps\u001b[0m\u001b[0;34m[\u001b[0m\u001b[0;36m1\u001b[0m\u001b[0;34m]\u001b[0m\u001b[0;34m,\u001b[0m \u001b[0mtemps\u001b[0m\u001b[0;34m[\u001b[0m\u001b[0;36m2\u001b[0m\u001b[0;34m]\u001b[0m\u001b[0;34m,\u001b[0m \u001b[0mtemps\u001b[0m\u001b[0;34m[\u001b[0m\u001b[0;36m3\u001b[0m\u001b[0;34m]\u001b[0m\u001b[0;34m)\u001b[0m\u001b[0;34m\u001b[0m\u001b[0;34m\u001b[0m\u001b[0m\n\u001b[1;32m     40\u001b[0m \u001b[0;32mdef\u001b[0m \u001b[0mafficheDate\u001b[0m\u001b[0;34m(\u001b[0m\u001b[0mdate\u001b[0m \u001b[0;34m=\u001b[0m \u001b[0;34m-\u001b[0m\u001b[0;36m1\u001b[0m\u001b[0;34m)\u001b[0m\u001b[0;34m:\u001b[0m\u001b[0;34m\u001b[0m\u001b[0;34m\u001b[0m\u001b[0m\n\u001b[0;32m---> 41\u001b[0;31m     \u001b[0mprint\u001b[0m\u001b[0;34m(\u001b[0m\u001b[0mdate\u001b[0m\u001b[0;34m[\u001b[0m\u001b[0;36m2\u001b[0m\u001b[0;34m]\u001b[0m\u001b[0;34m,\u001b[0m \u001b[0mdate\u001b[0m\u001b[0;34m[\u001b[0m\u001b[0;36m1\u001b[0m\u001b[0;34m]\u001b[0m\u001b[0;34m,\u001b[0m \u001b[0mdate\u001b[0m\u001b[0;34m[\u001b[0m\u001b[0;36m0\u001b[0m\u001b[0;34m]\u001b[0m\u001b[0;34m,\u001b[0m \u001b[0;34m\"à\"\u001b[0m\u001b[0;34m,\u001b[0m \u001b[0mdate\u001b[0m\u001b[0;34m[\u001b[0m\u001b[0;36m3\u001b[0m\u001b[0;34m]\u001b[0m\u001b[0;34m,\u001b[0m \u001b[0;34m\":\"\u001b[0m\u001b[0;34m,\u001b[0m \u001b[0mdate\u001b[0m\u001b[0;34m[\u001b[0m\u001b[0;36m4\u001b[0m\u001b[0;34m]\u001b[0m\u001b[0;34m,\u001b[0m \u001b[0;34m\":\"\u001b[0m\u001b[0;34m,\u001b[0m \u001b[0mdate\u001b[0m\u001b[0;34m[\u001b[0m\u001b[0;36m5\u001b[0m\u001b[0;34m]\u001b[0m \u001b[0;34m)\u001b[0m\u001b[0;34m\u001b[0m\u001b[0;34m\u001b[0m\u001b[0m\n\u001b[0m\u001b[1;32m     42\u001b[0m \u001b[0;34m\u001b[0m\u001b[0m\n\u001b[1;32m     43\u001b[0m \u001b[0mtemps\u001b[0m \u001b[0;34m=\u001b[0m \u001b[0msecondeEnTemps\u001b[0m\u001b[0;34m(\u001b[0m\u001b[0;36m1000000000\u001b[0m\u001b[0;34m)\u001b[0m\u001b[0;34m\u001b[0m\u001b[0;34m\u001b[0m\u001b[0m\n",
      "\u001b[0;31mTypeError\u001b[0m: 'NoneType' object is not subscriptable"
     ]
    }
   ],
   "source": [
    "def nombreBisextile(jour):\n",
    "    a = 1970 + jour // 365\n",
    "    nbr = 0\n",
    "    for i in range (1970, a+1):\n",
    "        if (i % 4 == 0 and i % 100 != 0) or i % 400 == 0 :\n",
    "            nbr += 1\n",
    "    return nbr\n",
    "\n",
    "def tempsEnDateBisextile(temps):\n",
    "    a = 1970 + temps[0] // 365 \n",
    "    j = temps[0] - (temps[0]//365) * 365 + 1 - nombreBisextile(temps[0])\n",
    "    x = 0\n",
    "    if (a % 4 == 0 and a % 100 != 0) or a % 400 == 0 :\n",
    "        x = 1\n",
    "    if 0 < j <= 31 :\n",
    "        m = \"janvier\"\n",
    "    if 31 + x < j <= 60 + x :\n",
    "        m = \"février\"\n",
    "        j -= 31\n",
    "    if 60 + x < j <= 90 + x :\n",
    "        m = \"mars\"\n",
    "        j -= 60\n",
    "    if 90 + x < j <= 120 + x :\n",
    "        m = \"avril\"\n",
    "        j -= 90\n",
    "    if 120 + x < j <= 151 = X :\n",
    "        m = \"mai\"\n",
    "        j -= 120\n",
    "    if 151 + x < j <= 181 + x :\n",
    "        m = \"juin\"\n",
    "        j -= 151\n",
    "    if 181 + x < j <= 212 + x:\n",
    "        m = \"juillet\"\n",
    "        j -= 181\n",
    "    if 212 + x < j <= 243 + x :\n",
    "        m = \"août\"\n",
    "        j -= 212\n",
    "    if 243 + x < j <= 273 + x:\n",
    "        m = \"septembre\"\n",
    "        j -= 243\n",
    "    if 273 + x < j <= 304 + x :\n",
    "        m = \"octobre\"\n",
    "        j -= 273\n",
    "    if 304 + x < j <= 334 + x :\n",
    "        m = \"novembre\"\n",
    "        j -= 304\n",
    "    if 334 + x < j <= 365 + x :\n",
    "        m = \"décembre\"\n",
    "        j -= 334\n",
    "    \n",
    "   \n",
    "temps = secondeEnTemps(1000000000)\n",
    "afficheTemps(temps)\n",
    "afficheDate(tempsEnDateBisextile(temps))"
   ]
  },
  {
   "cell_type": "markdown",
   "metadata": {},
   "source": [
    "Ajouter des valeurs par défaut dans le code de `afficheDate` afin de pouvoir ommettre\n",
    "l'argument de ces fonctions. Dans ce cas là, on affichera la date actuelle en utilisant la fonction `time`."
   ]
  },
  {
   "cell_type": "markdown",
   "metadata": {},
   "source": [
    "On va maintenant inspecter notre code pour améliorer sa qualité:\n",
    "\n",
    "* Regarder tous les warnings donnés par flake8 et essayer de les régler.\n",
    "* Utiliser le debugger (F5) pour étudier le fonctionnement de votre fonction nombreBisextile.\n",
    "* Mettre les annotations de type des arguments et du retour de la fonction pour nombreBisextile et une autre fonction de votre choix. Vérifier avec mypy que tout fonctionne bien."
   ]
  },
  {
   "cell_type": "markdown",
   "metadata": {},
   "source": [
    "Donner une fonction qui vérifie la charge horaire d'un employé, donnée sous forme d'une liste de temps travaillé chaque semaine dans un mois. Il ne faut pas dépasser 48h par semaine et 140h par mois (qu'on considère ici de 4 semaines).\n",
    "\n",
    "(Optionnel) S'adapter à une liste qui peut contenir plusieurs mois."
   ]
  },
  {
   "cell_type": "code",
   "execution_count": null,
   "metadata": {},
   "outputs": [],
   "source": [
    "def verifie(liste_temps):\n",
    "    pass\n",
    "\n",
    "\n",
    "liste_temps = [[1,2,39,34],[0,1,9,4],[0,29,39,51],[0,31,13,46]]\n",
    "verifie(liste_temps)"
   ]
  },
  {
   "cell_type": "code",
   "execution_count": 4,
   "metadata": {},
   "outputs": [
    {
     "ename": "NameError",
     "evalue": "name 'b' is not defined",
     "output_type": "error",
     "traceback": [
      "\u001b[0;31m---------------------------------------------------------------------------\u001b[0m",
      "\u001b[0;31mNameError\u001b[0m                                 Traceback (most recent call last)",
      "\u001b[0;32m<ipython-input-4-367e618768f7>\u001b[0m in \u001b[0;36m<module>\u001b[0;34m\u001b[0m\n\u001b[1;32m      8\u001b[0m \u001b[0mc\u001b[0m \u001b[0;34m=\u001b[0m \u001b[0;36m1\u001b[0m\u001b[0;34m\u001b[0m\u001b[0;34m\u001b[0m\u001b[0m\n\u001b[1;32m      9\u001b[0m \u001b[0;31m#b = calculs(3,4)\u001b[0m\u001b[0;34m\u001b[0m\u001b[0;34m\u001b[0m\u001b[0;34m\u001b[0m\u001b[0m\n\u001b[0;32m---> 10\u001b[0;31m \u001b[0mprint\u001b[0m\u001b[0;34m(\u001b[0m\u001b[0ma\u001b[0m\u001b[0;34m,\u001b[0m\u001b[0mb\u001b[0m\u001b[0;34m,\u001b[0m\u001b[0mc\u001b[0m\u001b[0;34m)\u001b[0m\u001b[0;34m\u001b[0m\u001b[0;34m\u001b[0m\u001b[0m\n\u001b[0m",
      "\u001b[0;31mNameError\u001b[0m: name 'b' is not defined"
     ]
    }
   ],
   "source": [
    "a = 2\n",
    "\n",
    "def calculs(b,c):\n",
    "    c = a * 2\n",
    "    a = 1\n",
    "    return a + b;\n",
    "\n",
    "c = 1\n",
    "b = calculs(3,4)\n",
    "print(a,b,c)"
   ]
  },
  {
   "cell_type": "code",
   "execution_count": 1,
   "metadata": {},
   "outputs": [
    {
     "name": "stdout",
     "output_type": "stream",
     "text": [
      "18\n"
     ]
    }
   ],
   "source": [
    "##Exercice 1:\n",
    "print(len(\"AbC\"*6))\n",
    "##Le programme affiche 6*3\n",
    "##La fonction len() permet de compter le nombre de caractères dans une chaîne de caractères."
   ]
  },
  {
   "cell_type": "code",
   "execution_count": 16,
   "metadata": {},
   "outputs": [
    {
     "name": "stdout",
     "output_type": "stream",
     "text": [
      "Total à payer: 56 €\n"
     ]
    }
   ],
   "source": [
    "##Exercice 2:\n",
    "nbr_match = int(input(\"A combien de match voulez vous assister ?\"))\n",
    "tarif = input(\"Choisissez votre tarif\")\n",
    "if tarif == \"tarif 1\" :\n",
    "    print(\"Total à payer :\", nbr_match * 8, \"€\")\n",
    "elif tarif == \"tarif 2\":\n",
    "    print(\"Total à payer:\", 44 + 4 * nbr_match, \"€\")\n",
    "elif tarif == \"tarif 3\" :\n",
    "    print(\"Toatl à payer : 91 €\")"
   ]
  },
  {
   "cell_type": "code",
   "execution_count": 1,
   "metadata": {},
   "outputs": [
    {
     "name": "stdout",
     "output_type": "stream",
     "text": [
      "10 39\n",
      "Mauvaise réponse\n",
      "Bravo !\n"
     ]
    }
   ],
   "source": [
    "a = 10\n",
    "b = 39\n",
    "print(a , b)\n",
    "result = int(input(\"Somme\"))\n",
    "while result != a+b :\n",
    "    print(\"Mauvaise réponse\")\n",
    "    result = int(input(\"Somme\"))\n",
    "print(\"Bravo !\")"
   ]
  }
 ],
 "metadata": {
  "interpreter": {
   "hash": "f552b7f50fdee61d4f3ad53a198f0985622d3acdfc9336f433333dd1f424d266"
  },
  "kernelspec": {
   "display_name": "Python 3.9.7 64-bit ('l1-python': conda)",
   "name": "python3"
  },
  "language_info": {
   "codemirror_mode": {
    "name": "ipython",
    "version": 3
   },
   "file_extension": ".py",
   "mimetype": "text/x-python",
   "name": "python",
   "nbconvert_exporter": "python",
   "pygments_lexer": "ipython3",
   "version": "3.9.7"
  }
 },
 "nbformat": 4,
 "nbformat_minor": 4
}
