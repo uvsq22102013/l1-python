{
 "cells": [
  {
   "cell_type": "markdown",
   "metadata": {
    "slideshow": {
     "slide_type": "slide"
    }
   },
   "source": [
    "# TD 2: Les structures de contrôle\n",
    "\n",
    "---\n",
    "\n",
    "## 0. Récupération des nouveaux documents\n",
    "\n",
    "\n",
    "Les sujets de TD ainsi que les supports de cours sont publiés en ligne au fur et à mesure sur l'espace github original [https://github.com/uvsq-info/l1-python](https://github.com/uvsq-info/l1-python). Au moment où vous avez fait le fork de cet espace sur votre espace personnel, il est probable que tous les contenus n'étaient pas présents. Pour compléter votre espace, deux solutions sont possibles:\n",
    "\n",
    "\n",
    "1. (solution à privilégier) aller sur la page du projet original [https://github.com/uvsq-info/l1-python](https://github.com/uvsq-info/l1-python), et cliquer sur le bouton vert `Code` en haut à droite. Choisir `download ZIP`, puis extraire l'ensemble des nouveaux fichiers vers votre projet personnel local. Vous pouvez ensuite sauvegarder ces ajouts dans votre espace github personnel en suivant la procédure habituelle.\n",
    "2. (solution qui présente des risques de conflits entre différentes versions d'un même document) en ligne de commande dans le terminal, en suivant la procédure de la section *Intégrer les mises à jour du projet original* du fichier [README.md](https://github.com/uvsq-info/l1-python/blob/master/README.md#int%C3%A9grer-les-mises-%C3%A0-jour-du-projet-original)\n"
   ]
  },
  {
   "cell_type": "markdown",
   "metadata": {
    "slideshow": {
     "slide_type": "slide"
    }
   },
   "source": [
    "---\n",
    "\n",
    "## 1. Premiers exercices avec les structures conditionnelles\n",
    "\n",
    "**Exercice 1:**\n",
    "\n",
    "1. Soit *num1 = 15* et *num2 = 5*. Ecrire un programme qui affiche *Factors!* si l'un des nombres est un facteur de l'autre (c'est-à-dire qu'il divise l'autre nombre). Si aucun des nombres n'est un facteur de l'autre, le programme n'affiche rien.\n",
    "2. Changer le code que vous avez écrit de telle sorte qu'il affiche toujours *Factors!* si un nombre est un facteur de l'autre, mais qui affiche aussi *Not factors!* si aucun des nombres n'est un facteur de l'autre."
   ]
  },
  {
   "cell_type": "code",
   "execution_count": 5,
   "metadata": {
    "slideshow": {
     "slide_type": "notes"
    }
   },
   "outputs": [
    {
     "name": "stdout",
     "output_type": "stream",
     "text": [
      "Facteurs!\n"
     ]
    }
   ],
   "source": [
    "num1 = 15\n",
    "num2 = 5\n",
    "if num1%num2 == 0 or num2%num1 == 0 :\n",
    "    print (\"Facteurs!\")\n",
    "else :\n",
    "    print(\"\")"
   ]
  },
  {
   "cell_type": "markdown",
   "metadata": {
    "slideshow": {
     "slide_type": "slide"
    }
   },
   "source": [
    "**Exercice 2:**\n",
    "    \n",
    "Soit *state = \"Georgia\"*. Ecrire un programme qui permet d'afficher un message spécifique en fonction de la variable *state* :  \n",
    "* \"School isn't cancelled.\" si nous sommes à New Jersey,  \n",
    "* \"School is postponed.\" si nous sommes à North Carolina,\n",
    "* \"School is cancelled!\" si nous sommes à Georgia,  \n",
    "* \"School's status is unknown\" si nous ne sommes pas dans un des trois états précédemment mentionnés."
   ]
  },
  {
   "cell_type": "code",
   "execution_count": 13,
   "metadata": {
    "slideshow": {
     "slide_type": "notes"
    }
   },
   "outputs": [
    {
     "name": "stdout",
     "output_type": "stream",
     "text": [
      "School is cancelled!\n"
     ]
    }
   ],
   "source": [
    "state =  \"Georgia\"\n",
    "if state == \"New Jersey\" :\n",
    "    print(\"School isn't cancelled.\")\n",
    "elif state == \"North Carolina\" :\n",
    "    print(\"School is postponed.\")\n",
    "elif state == \"Georgia\":\n",
    "    print(\"School is cancelled!\")\n",
    "else :\n",
    "    print(\"School's status is unknown\")\n"
   ]
  },
  {
   "cell_type": "markdown",
   "metadata": {
    "slideshow": {
     "slide_type": "slide"
    }
   },
   "source": [
    "**Exercice 3:**\n",
    "\n",
    "Ecrire un programme pour découvrir le signe du zodiaque chinois pour une année donnée. Le signe du zodiaque chinois est basé sur un cycle de 12 ans et chaque année de ce cycle est représentée par un animal :\n",
    "* 0: monkey\n",
    "* 1: rooster\n",
    "* 2: dog\n",
    "* 3: pig\n",
    "* 4: rat\n",
    "* 5: ox\n",
    "* 6: tiger\n",
    "* 7: rabbit\n",
    "* 8: dragon\n",
    "* 9: snake\n",
    "* 10: horse\n",
    "* 11: sheep\n",
    "\n",
    "La valeur de l'année % 12 détermine le signe du zodiaque. Par exemple, 1900 est l'année du *rat* puisque 1900 % 12 est 4."
   ]
  },
  {
   "cell_type": "code",
   "execution_count": 17,
   "metadata": {
    "slideshow": {
     "slide_type": "notes"
    }
   },
   "outputs": [
    {
     "name": "stdout",
     "output_type": "stream",
     "text": [
      "horse\n"
     ]
    }
   ],
   "source": [
    "year = int(input(\"Année:\"))\n",
    "div = year%12\n",
    "if div == 0:\n",
    "    print(\"monkey\")\n",
    "elif div == 1:\n",
    "    print(\"rooster\")\n",
    "elif div == 2:\n",
    "    print(\"dog\")\n",
    "elif div == 3:\n",
    "    print(\"pig\")\n",
    "elif div == 4:\n",
    "    print(\"rat\")\n",
    "elif div == 5:\n",
    "    print(\"ox\")\n",
    "elif div ==6 :\n",
    "    print(\"tiger\")\n",
    "elif div == 7:\n",
    "    print(\"rabbit\")\n",
    "elif div == 8:\n",
    "    print(\"dragon\")\n",
    "elif div == 9:\n",
    "    print(\"snake\")\n",
    "elif div == 10:\n",
    "    print(\"horse\")\n",
    "elif div == 11:\n",
    "    print(\"sheep\")\n",
    "else :\n",
    "    print(\"error\")"
   ]
  },
  {
   "cell_type": "markdown",
   "metadata": {
    "slideshow": {
     "slide_type": "slide"
    }
   },
   "source": [
    "**Exercice 4:**\n",
    "\n",
    "Soit *temperature = -3.7* et *celsius = True*. *celsius* est une variable booléenne qui indique si la température est en Celsius; si c'est *False*, alors la température donnée est en Fahrenheit. Ecrire un premier programme en utilisant *if-else* seulement qui permet d'afficher *Freezing* si les valeurs données représentent une température très basse, et *Not freezing* si ce n'est pas le cas. En Celsius, on considère qu'il fait très froid lorsque la température est inférieure ou égale à 0 degré. En Fahrenheit, on considère qu'il fait très froid lorsque la température est inférieure ou égale à 32 degrés. Proposer une seconde solution en utilisant *if-elif-else* à ce même problème."
   ]
  },
  {
   "cell_type": "code",
   "execution_count": 28,
   "metadata": {
    "slideshow": {
     "slide_type": "notes"
    }
   },
   "outputs": [
    {
     "name": "stdout",
     "output_type": "stream",
     "text": [
      "Freezing\n"
     ]
    }
   ],
   "source": [
    "temp = -3.7\n",
    "unit = (input(\"unité\"))\n",
    "if unit == \"degrés\" and temp <= 0 or unit == \"Fahrenheit\" and temp <= 32 :\n",
    "    print(\"Freezing\")\n",
    "else :\n",
    "    print (\"not Freezing\")"
   ]
  },
  {
   "cell_type": "code",
   "execution_count": 27,
   "metadata": {},
   "outputs": [
    {
     "name": "stdout",
     "output_type": "stream",
     "text": [
      "Freezing\n"
     ]
    }
   ],
   "source": [
    "temp = -3.7\n",
    "unit = str(input(\"unité\"))\n",
    "if unit == \"degrés\" and temp <= 0:\n",
    "    print(\"Freezing\")\n",
    "elif unit == \"Fahrenheit\" and temp <= 32 :\n",
    "    print(\"Freezing\")\n",
    "else :\n",
    "    print(\"Not freezing\")"
   ]
  },
  {
   "cell_type": "markdown",
   "metadata": {
    "slideshow": {
     "slide_type": "slide"
    }
   },
   "source": [
    "**Exercice 5:**\n",
    "    \n",
    "Ecrire un programme qui permet de déterminer si une année est bissextile ou non en utilisant une seule instruction *if-else*. Une année *A* est bissextile si *A* est divisible par 4. Elle ne l’est cependant pas si *A* est un multiple\n",
    "de 100, à moins que *A* ne soit multiple de 400.    "
   ]
  },
  {
   "cell_type": "code",
   "execution_count": 33,
   "metadata": {
    "slideshow": {
     "slide_type": "notes"
    }
   },
   "outputs": [
    {
     "name": "stdout",
     "output_type": "stream",
     "text": [
      "année non bissextile\n"
     ]
    }
   ],
   "source": [
    "A = int(input(\"année\"))\n",
    "if A % 4 == 0 and A % 100 != 0 or A % 400 == 0:\n",
    "    print(\"année bissextile\")\n",
    "else :\n",
    "    print(\"année non bissextile\")"
   ]
  },
  {
   "cell_type": "markdown",
   "metadata": {},
   "source": [
    "---\n",
    "\n",
    "## 2. Premiers exercices avec les structures itératives\n",
    "\n",
    "**Exercice 6:**\n",
    "\n",
    "1. Ecrire un programme qui permet d'afficher tous les nombres entre 1 et 10 (bornes incluses).\n",
    "2. Ecrire un programme se limitant à la boucle *for* qui permet d'afficher tous les nombres pairs entre 1 et 20 (bornes incluses). Proposer une deuxième solution en incluant une structure conditionnelle."
   ]
  },
  {
   "cell_type": "code",
   "execution_count": 47,
   "metadata": {},
   "outputs": [
    {
     "name": "stdout",
     "output_type": "stream",
     "text": [
      "1\n",
      "2\n",
      "3\n",
      "4\n",
      "5\n",
      "6\n",
      "7\n",
      "8\n",
      "9\n",
      "10\n",
      "1\n",
      "2\n",
      "3\n",
      "4\n",
      "5\n",
      "6\n",
      "7\n",
      "8\n",
      "9\n",
      "10\n",
      "11\n",
      "12\n",
      "13\n",
      "14\n",
      "15\n",
      "16\n",
      "17\n",
      "18\n",
      "19\n",
      "20\n"
     ]
    }
   ],
   "source": [
    "#première méthode\n",
    "for i in range (1, 11):\n",
    "    print(i)\n",
    "\n",
    "#deuxième méthode\n",
    "a= 0\n",
    "while a != 20 :\n",
    "    a= a+1\n",
    "    print(a)\n"
   ]
  },
  {
   "cell_type": "markdown",
   "metadata": {},
   "source": [
    "**Exercice 7:**\n",
    "    \n",
    "1. Ecrire un programme qui demande à l'utilisateur de saisir *n* nombres, *n* étant choisi par l'utilisateur, puis d'afficher la moyenne de ces nombres.\n",
    "\n",
    "2. Même question, mais l'utilisateur ne choisit pas à l'avance le nombre *n*, la procédure s'arrête quand il saisit le nombre -1.\n"
   ]
  },
  {
   "cell_type": "code",
   "execution_count": 50,
   "metadata": {},
   "outputs": [
    {
     "name": "stdout",
     "output_type": "stream",
     "text": [
      "10.0\n"
     ]
    }
   ],
   "source": [
    "#1\n",
    "n = int(input(\"nombre de notes\"))\n",
    "total=0\n",
    "for i in range (1, n+1):\n",
    "    nombre = int(input(\"nombre\"))\n",
    "    total = total+nombre\n",
    "print(\"la moyenne est\", total/n)"
   ]
  },
  {
   "cell_type": "code",
   "execution_count": 51,
   "metadata": {},
   "outputs": [
    {
     "name": "stdout",
     "output_type": "stream",
     "text": [
      "25.2\n"
     ]
    }
   ],
   "source": [
    "total = 0\n",
    "div = 0\n",
    "nombre = 0\n",
    "while nombre != -1 :\n",
    "    nombre = int(input(\"nombre\"))\n",
    "    total = total + nombre\n",
    "    div = div+1\n",
    "print(\"la moyenne est\", total/div)\n"
   ]
  },
  {
   "cell_type": "markdown",
   "metadata": {},
   "source": [
    "**Exercice 8:**\n",
    "\n",
    "Ecrire un programme qui permet de calculer le factoriel d'un nombre positif donné par l'utlisateur selon la formule suivante : \n",
    "n! = 1 x 2 x ... x n.  \n",
    "\n",
    "1. Une première version en utilisant la boucle *for*\n",
    "2. Une seconde version en utilisant la boucle *while*"
   ]
  },
  {
   "cell_type": "code",
   "execution_count": 1,
   "metadata": {},
   "outputs": [
    {
     "name": "stdout",
     "output_type": "stream",
     "text": [
      "120\n"
     ]
    }
   ],
   "source": [
    "n = int(input(\"nombre\"))\n",
    "f=1\n",
    "if n > 0 :\n",
    "    for i in range (1, n+1):\n",
    "        f=f*i\n",
    "print(f)"
   ]
  },
  {
   "cell_type": "code",
   "execution_count": 83,
   "metadata": {},
   "outputs": [
    {
     "name": "stdout",
     "output_type": "stream",
     "text": [
      "120\n"
     ]
    }
   ],
   "source": [
    "n = int(input(\"nombre\"))\n",
    "f = 1\n",
    "while n != 0:\n",
    "    n = n-1\n",
    "    f= f*(n+1)\n",
    "print(f)"
   ]
  },
  {
   "cell_type": "markdown",
   "metadata": {
    "slideshow": {
     "slide_type": "slide"
    }
   },
   "source": [
    "\n",
    "\n",
    "## 3. Pour aller plus loin\n",
    "\n",
    "**Excercice 9:**\n",
    "\n",
    "Ecrire un programme qui permet de connaître le jour de naissance de l'utilisateur en posant cinq questions.\n",
    "Chaque question demande si le jour est dans l'un des cinq ensembles suivants :\n",
    "\n",
    "* Set 1: \\[1 3 5 7 9 11 13 15 17 19 21 23 25 27 29 31\\]\n",
    "* Set 2: \\[2 3 6 7 10 11 14 15 18 19 22 23 26 27 30 31\\]\n",
    "* Set 3: \\[4 5 6 7 12 13 14 15 20 21 22 23 28 29 30 31\\]\n",
    "* Set 4: \\[8 9 10 11 12 13 14 15 24 25 26 27 28 29 30 31\\]\n",
    "* Set 5: \\[16 17 18 19 20 21 22 23 24 25 26 27 28 29 30 31\\]\n",
    "    \n",
    "\n",
    "Le jour de naissance est la somme des premiers nombres dans les ensembles où le jour apparaît. Par exemple,\n",
    "si le jour de naissance est 19, il apparaît dans Set 1, Set 2 et Set 5. Les premiers chiffres de ces trois ensembles sont 1, 2 et 16. Leur somme est 19."
   ]
  },
  {
   "cell_type": "code",
   "execution_count": 61,
   "metadata": {
    "slideshow": {
     "slide_type": "notes"
    }
   },
   "outputs": [
    {
     "name": "stdout",
     "output_type": "stream",
     "text": [
      "2\n"
     ]
    }
   ],
   "source": [
    "a= input(\"is your bithday in : 1 3 5 7 9 11 13 15 17 19 21 23 25 27 29 31 ? \")\n",
    "day = 0\n",
    "if a == \"yes\":\n",
    "    day = day +1\n",
    "else :\n",
    "    day = day + 0\n",
    "b= input(\"is your birthday in : 2 3 6 7 10 11 14 15 18 19 22 23 26 27 30 31 ?\")\n",
    "if b == \"yes\":\n",
    "    day = day + 2\n",
    "else:\n",
    "    day = day+0\n",
    "c= input(\"is your birthday in : 4 5 6 7 12 13 14 15 20 21 22 23 28 29 30 31 ?\")\n",
    "if c == \"yes\":\n",
    "    day = day + 4\n",
    "else :\n",
    "    day = day+0\n",
    "d = input(\"is your bithday in : 8 9 10 11 12 13 14 15 24 25 26 27 28 29 30 31 ?\")\n",
    "if d == \"yes\" :\n",
    "    day = day + 8\n",
    "else :\n",
    "    day = day + 0\n",
    "e = input(\"is your birth day in : 16 17 18 19 20 21 22 23 24 25 26 27 28 29 30 31 ?\")\n",
    "if d == \"yes\" :\n",
    "    day = day + 16\n",
    "else : day = day+0\n",
    "print(day)\n",
    "\n",
    "\n"
   ]
  },
  {
   "cell_type": "code",
   "execution_count": 1,
   "metadata": {},
   "outputs": [
    {
     "name": "stdout",
     "output_type": "stream",
     "text": [
      "6\n"
     ]
    }
   ],
   "source": [
    "a = int(input(\"is your bithday in : 1 3 5 7 9 11 13 15 17 19 21 23 25 27 29 31 ?\"))\n",
    "b = int(input(\"is your birthday in : 2 3 6 7 10 11 14 15 18 19 22 23 26 27 30 31 ?\"))\n",
    "c = int(input(\"is your birthday in : 4 5 6 7 12 13 14 15 20 21 22 23 28 29 30 31 ?\"))\n",
    "d = int(input(\"is your bithday in : 8 9 10 11 12 13 14 15 24 25 26 27 28 29 30 31 ?\"))\n",
    "e = int(input(\"is your birth day in : 16 17 18 19 20 21 22 23 24 25 26 27 28 29 30 31 ?\"))\n",
    "day = 1*a + 2*b + 4*c + 8*d + 16*e\n",
    "print(day)\n",
    "\n",
    "\n"
   ]
  },
  {
   "cell_type": "markdown",
   "metadata": {
    "slideshow": {
     "slide_type": "slide"
    }
   },
   "source": [
    "**Excercice 10:**\n",
    "\n",
    "Ecrire un programme qui permet de génèrer de manière aléatoire un nombre à deux chiffres, invite l'utilisateur à saisir un nombre à deux chiffres et détermine si l'utilisateur gagne selon les règles suivantes :\n",
    "* Si l'entrée de l'utilisateur correspond à la loterie (le nombre généré aléatoirement) dans l'ordre exact, la récompense est de 10 000€.\n",
    "* Sinon, si les deux chiffres entrés par l'utilisateur correspondent aux deux chiffres du numéro de loterie, la récompense est de 3 000€.\n",
    "* Sinon, si un chiffre dans l'entrée de l'utilisateur correspond à un chiffre dans le numéro de loterie, la récompense est de 1 000€.\n",
    "\n",
    "**Astuce :** Utiliser la fonction **random.randint(0, 99)** pour génèrer de manière aléatoire un nombre à deux chiffres. Cette fonction doit être accompagné par **import random** comme première instruction dans le code."
   ]
  },
  {
   "cell_type": "code",
   "execution_count": 39,
   "metadata": {
    "slideshow": {
     "slide_type": "notes"
    }
   },
   "outputs": [
    {
     "name": "stdout",
     "output_type": "stream",
     "text": [
      "Vous avez perdu\n"
     ]
    }
   ],
   "source": [
    "from random import*\n",
    "a = randint(10,99)\n",
    "b = int(input(\"Entrez un nombre à deux chiffres\"))\n",
    "if a == b :\n",
    "    print(\"Vous avez gagné 10 0000€\")\n",
    "elif str(a)[0] == str(b)[1] and str(a)[1] == str(b)[0] :\n",
    "    print(\"Vous avez gagné 3 000€\")\n",
    "elif str(b)[0] == str(a)[0] or str(b)[0] == str(a)[1] :\n",
    "    print(\"Vous avez gagné 1 000€\")\n",
    "elif str(b)[1] == str(a)[1] or str(b)[0] == str(a)[1] :\n",
    "    print(\"Vous avez gagné 1 000€\")\n",
    "else :\n",
    "    print(\"Vous avez perdu\")"
   ]
  },
  {
   "cell_type": "markdown",
   "metadata": {},
   "source": [
    "**Exercice 11:**\n",
    "    \n",
    "Ecrire un programme qui permet de calculer la somme des chiffres d'un entier *n* donné. Le nombre *n* doit être compris entre 10 et 20 (bornes incluses)."
   ]
  },
  {
   "cell_type": "code",
   "execution_count": 16,
   "metadata": {},
   "outputs": [
    {
     "name": "stdout",
     "output_type": "stream",
     "text": [
      "6\n"
     ]
    }
   ],
   "source": [
    "n = (input(\"Entrez un nombre entre 10 et 20\"))\n",
    "print(int(n[0]) + int(n[1]))"
   ]
  },
  {
   "cell_type": "markdown",
   "metadata": {},
   "source": [
    "**Exercice 12:**\n",
    "\n",
    "1. Ecrire un programme qui permet de générer aléatoirement deux nombres entre 0 et 9, de calculer leurs différences (en valeur absolue), puis d'inviter l'utilisateur à répondre à la question suivante *que vaut abs(number1 - number2)?*. Le programme doit permettre à l'utilisateur de répondre plusieurs fois jusqu'à la saisie de la bonne réponse.\n",
    "2. Modifier le programme précédent de telle sorte qu'il génère cinq occurences à la suite invitant à répondre à la question précédente. A la fin, le programme affiche le nombre moyen de tentatives qu'il a fallu à l'utilisateur pour répondre à une question."
   ]
  },
  {
   "cell_type": "code",
   "execution_count": 6,
   "metadata": {
    "tags": []
   },
   "outputs": [
    {
     "name": "stdout",
     "output_type": "stream",
     "text": [
      "3 - 7\n",
      "Bravo !\n"
     ]
    }
   ],
   "source": [
    "from random import*\n",
    "a = randint(0,10)\n",
    "b = randint(0,10)\n",
    "c = abs(a-b)\n",
    "print(a,\"-\", b)\n",
    "x = int(input(\"valeur absolue soustraction\"))\n",
    "while x != c :\n",
    "    print(\"Faux\")\n",
    "    x = int(input(\"valeur absolue soustraction\"))\n",
    "print(\"Bravo !\")\n"
   ]
  },
  {
   "cell_type": "code",
   "execution_count": 11,
   "metadata": {
    "tags": []
   },
   "outputs": [
    {
     "name": "stdout",
     "output_type": "stream",
     "text": [
      "9 - 4\n",
      "faux\n",
      "Bravo !\n",
      "1 - 5\n",
      "faux\n",
      "Bravo !\n",
      "6 - 1\n",
      "faux\n",
      "Bravo !\n",
      "1 - 8\n",
      "faux\n",
      "Bravo !\n",
      "3 - 5\n",
      "faux\n",
      "Bravo !\n",
      "Moyenne de tentatives pour une question est de : 2.0\n"
     ]
    }
   ],
   "source": [
    "from random import*\n",
    "tent = 0\n",
    "for i in range(1,6):\n",
    "    a = randint(0,10)\n",
    "    b = randint(0,10)\n",
    "    c = abs(a-b)\n",
    "    print(a,\"-\", b)\n",
    "    x = int(input(\"valeur absolue soustraction\"))\n",
    "    while x != c :\n",
    "        print(\"faux\")\n",
    "        tent += 1\n",
    "        x = int(input(\"valeur absolue soustraction\"))\n",
    "    tent += 1\n",
    "    print(\"Bravo !\")\n",
    "print(\"Moyenne de tentatives pour une question est de :\", tent/5)"
   ]
  },
  {
   "cell_type": "markdown",
   "metadata": {},
   "source": [
    "**Exercice 13:**\n",
    "\n",
    "Ecrire un programme qui permet de calculer le nombre de mots dans une phrase saisie par l'utilisateur."
   ]
  },
  {
   "cell_type": "code",
   "execution_count": 12,
   "metadata": {
    "tags": []
   },
   "outputs": [
    {
     "name": "stdout",
     "output_type": "stream",
     "text": [
      "4\n"
     ]
    }
   ],
   "source": [
    "p = input(\"phrase\")\n",
    "mots = len(p.split())\n",
    "print(mots)"
   ]
  },
  {
   "cell_type": "code",
   "execution_count": null,
   "metadata": {},
   "outputs": [],
   "source": []
  },
  {
   "cell_type": "markdown",
   "metadata": {
    "slideshow": {
     "slide_type": "slide"
    }
   },
   "source": [
    "---\n",
    "\n",
    "## 4. Pour s'entraîner\n",
    "\n",
    "**Exercice 14:**\n",
    "    \n",
    "Soit la variable my_input = \"zoophysiology\". Ecrire un script qui permet d'afficher l'un des messages suivants en fonction du nombre maximum de *o* consécutifs dans la variable *my_input*. Par exemple, le script doit afficher \"I like studying birds! I want to become an ornithologist!\" parce qu'il y a deux *o* consécutifs, même s'il y a aussi des *o* individual.\n",
    "Ignorer les *o* majuscules - recherchez que les *o* minuscules.\n",
    "\n",
    "* Si \"o\" apparaît trois fois ou plus de suite, afficher le message \"I like going to the zoo!\"  \n",
    "* Si \"o\" apparaît deux fois, afficher le message \"I like studying birds! I want to become an ornithologist!\"  \n",
    "* Si \"o\" apparaît une seule fois, afficher le message \"I like studying fish! I want to become an ichthyologist!\"  \n",
    "* Si \"o\" n'apparaît pas dans la variable *my_input*, afficher le message \"I miss going to the zoo!\"  \n",
    "\n",
    "**Astuce :** Utiliser l'opérateur **in** qui renvoie **True** si la première chaîne se trouve dans la deuxième chaîne. "
   ]
  },
  {
   "cell_type": "code",
   "execution_count": 13,
   "metadata": {
    "slideshow": {
     "slide_type": "notes"
    }
   },
   "outputs": [
    {
     "name": "stdout",
     "output_type": "stream",
     "text": [
      "I like going to the zoo!\n"
     ]
    }
   ],
   "source": [
    "my_input = \"zoophysiolooogy\"\n",
    "tot = 0\n",
    "tot2 = 0\n",
    "for i in range (len(my_input)):\n",
    "    if my_input[i] == \"o\":\n",
    "        tot += 1\n",
    "    else :\n",
    "        if tot2 <= tot :\n",
    "            tot2 = tot\n",
    "        tot = 0\n",
    "if tot2 >= 3:\n",
    "    print(\"I like going to the zoo!\")\n",
    "elif tot2 == 2:\n",
    "    print(\"I like studying birds! I want to become an ornithologist!\")\n",
    "elif tot2 == 1:\n",
    "    print(\"I like studying fish! I want to become an ichthyologist!\")\n",
    "else :\n",
    "    print(\"I miss going to the zoo!\")"
   ]
  },
  {
   "cell_type": "markdown",
   "metadata": {
    "slideshow": {
     "slide_type": "slide"
    }
   },
   "source": [
    "**Exercice 15:**\n",
    "    \n",
    "Créer quatre variables nommées *team_1* et *team_2*, représentant deux noms d'équipes, et *team_1_score* et *team_2_score*, représentant les scores de ces deux équipes. \n",
    "Une équipe gagne si son score est supérieur à l'autre score de l'autre équipe.\n",
    " \n",
    "Ecrire un premier script qui permet d'afficher les messages suivants selon les valeurs entrées, ceci en utilisant seulement les quatres variables créées :\n",
    "* Si une équipe bat l'autre, affichez: \"\\[winner\\] beat \\[loser\\] by \\[margin\\]\"\n",
    "* Si aucune des équipes n'a gagné, affichez: \"\\[team_1\\] played \\[team_2\\] and it was a tie\"\n",
    "\n",
    "Ecrire un deuxième script qui permet d'afficher les mêmes messages mais en ajoutant trois variables de plus :\n",
    "* La variable *winner* pour définir l'équipe gagnante  \n",
    "* La variable *loser* pour définier l'équipe perdante  \n",
    "* La variable *margin* pour définir la différence entre les deux scores \n"
   ]
  },
  {
   "cell_type": "code",
   "execution_count": 3,
   "metadata": {
    "slideshow": {
     "slide_type": "notes"
    }
   },
   "outputs": [
    {
     "name": "stdout",
     "output_type": "stream",
     "text": [
      "France beat Espagne by 2\n"
     ]
    }
   ],
   "source": [
    "team_1 = \"France\"\n",
    "team_2 = \"Espagne\"\n",
    "team_1_score = 2\n",
    "team_2_score = 1\n",
    "margin = abs(team_1_score - team_2_score)\n",
    "if team_1_score < team_2_score :\n",
    "    print(team_2, \"beat\", team_1, \"by\", margin)\n",
    "elif team_1_score > team_2_score :\n",
    "    print(team_1, \"beat\", team_2, \"by\", margin)\n",
    "else :\n",
    "    print(team_1, \"played\", team_2, \"and it was a tie\")"
   ]
  },
  {
   "cell_type": "code",
   "execution_count": 20,
   "metadata": {
    "slideshow": {
     "slide_type": "notes"
    }
   },
   "outputs": [
    {
     "name": "stdout",
     "output_type": "stream",
     "text": [
      "France beat Espagne by 1\n"
     ]
    }
   ],
   "source": [
    "team_1_score = 2\n",
    "team_2_score = 1\n",
    "if team_1_score < team_2_score :\n",
    "    winner = \"Espagne\"\n",
    "    looser = \"France\"\n",
    "else :\n",
    "    winner = \"France\"\n",
    "    looser = \"Espagne\"\n",
    "margin = abs(team_1_score - team_2_score)\n",
    "print(winner, \"beat\", looser, \"by\", margin)\n"
   ]
  },
  {
   "cell_type": "markdown",
   "metadata": {
    "slideshow": {
     "slide_type": "slide"
    }
   },
   "source": [
    "**Exercice 16:**\n",
    "    \n",
    "L'Indice de Masse Corporelle (IMC) permet d'estimer le poids idéal en fonction de la taille. Son calcul correspond au poids en kilogrammes divisé par le carré de la taille en mètre (IMC = poids en kg/taille² en m). Le chiffre obtenu permet d'estimer la corpulence et éventuellement le surpoids ou l'obésité chez l'adulte, homme ou femme.\n",
    "L'interprétation de l'IMC pour les personnes de 16 ans et plus est la suivante :\n",
    "* Moins de 18.5: Underweight\n",
    "* Entre 18.5 et 24.9: Normal\n",
    "* Entre 25.0 et 29.9: Overweight\n",
    "* Plus que 30.0: Obese\n",
    "\n",
    "Ecrire un programme qui permet de saisir un poids en *pounds* et une taille en *inches*, de calculer et d'afficher l'IMC à deux valeurs après la virgule, et d'afficher l'interprétation la plus adéquate. Notez qu'un *pound* équivaut à 0,45359237 kilogrammes et qu'un *inch* équivaut à 0,0254 mètre.  \n",
    "\n",
    "**Astuce :** Pour afficher deux valeurs après la virgule, utilisez la fonction **format(nom_variable, \".2f\")**. Exemple : **print('La moyenne est :', format(moyenne, \".2f\"))**"
   ]
  },
  {
   "cell_type": "code",
   "execution_count": 14,
   "metadata": {
    "slideshow": {
     "slide_type": "notes"
    }
   },
   "outputs": [
    {
     "name": "stdout",
     "output_type": "stream",
     "text": [
      "Obese\n",
      "votre imc est de : 233.71\n"
     ]
    }
   ],
   "source": [
    "poids = float(input(\"votre poids en pounds\"))\n",
    "taille = float(input(\"votre taille en inches\"))\n",
    "p = poids * 0.45359237\n",
    "t = taille * 0.0254\n",
    "imc = p/t**2\n",
    "if imc < 18.5 :\n",
    "    print(\"Underweight\")\n",
    "elif 18.5 <= imc <= 24.9 :\n",
    "    print(\"Normal\")\n",
    "elif 25.0 <= imc <= 29.9 :\n",
    "    print(\"Overweight\")\n",
    "else :\n",
    "    print(\"Obese\")\n",
    "print(\"votre imc est de :\", format(imc, \".2f\"))"
   ]
  },
  {
   "cell_type": "markdown",
   "metadata": {},
   "source": [
    "**Exercice 17:**\n",
    "\n",
    "Ecrire un programme qui affiche un triangle d'étoiles de taille donnée, par exemple si on entre 6, le programme affiche:\n",
    "```\n",
    "*\n",
    "**\n",
    "***\n",
    "****\n",
    "*****\n",
    "******\n",
    "```"
   ]
  },
  {
   "cell_type": "code",
   "execution_count": 16,
   "metadata": {
    "tags": []
   },
   "outputs": [
    {
     "name": "stdout",
     "output_type": "stream",
     "text": [
      "\n",
      "*\n",
      "**\n",
      "***\n",
      "****\n",
      "*****\n",
      "******\n",
      "*******\n",
      "********\n",
      "*********\n",
      "**********\n",
      "***********\n",
      "************\n",
      "*************\n",
      "**************\n",
      "***************\n",
      "****************\n",
      "*****************\n",
      "******************\n",
      "*******************\n",
      "********************\n"
     ]
    }
   ],
   "source": [
    "n = int(input(\"Entrez un nombre\"))\n",
    "for i in range(n+1):\n",
    "    print(\"*\"*i)"
   ]
  },
  {
   "cell_type": "markdown",
   "metadata": {},
   "source": [
    "**Exercice 18:**\n",
    "\n",
    "Même exercice mais cette fois la sortie est\n",
    "```\n",
    "     *\n",
    "    **         \n",
    "   ***\n",
    "  ****\n",
    " *****\n",
    "******\n",
    "```"
   ]
  },
  {
   "cell_type": "code",
   "execution_count": 17,
   "metadata": {
    "tags": []
   },
   "outputs": [
    {
     "name": "stdout",
     "output_type": "stream",
     "text": [
      "                     \n",
      "                    *\n",
      "                   **\n",
      "                  ***\n",
      "                 ****\n",
      "                *****\n",
      "               ******\n",
      "              *******\n",
      "             ********\n",
      "            *********\n",
      "           **********\n",
      "          ***********\n",
      "         ************\n",
      "        *************\n",
      "       **************\n",
      "      ***************\n",
      "     ****************\n",
      "    *****************\n",
      "   ******************\n",
      "  *******************\n",
      " ********************\n"
     ]
    }
   ],
   "source": [
    "n = int(input(\"Entrez un nombre\"))\n",
    "for i in range(n+1):\n",
    "    print(\" \"*(n-i), \"*\"*i)"
   ]
  },
  {
   "cell_type": "markdown",
   "metadata": {},
   "source": [
    "**Exercice 19:**\n",
    "\n",
    "Ecrire un programme qui calcule, étant donné un entier *n* rentré par l'utilisateur, la plus grande puissance de *n* inférieure à un million."
   ]
  },
  {
   "cell_type": "code",
   "execution_count": 3,
   "metadata": {
    "tags": []
   },
   "outputs": [
    {
     "name": "stdout",
     "output_type": "stream",
     "text": [
      "La plus grande puissance de 90 inférieure à un million est : 3\n"
     ]
    }
   ],
   "source": [
    "n = int(input(\"nombre\"))\n",
    "b = 0\n",
    "c = 0\n",
    "while c < 1000000:\n",
    "    b += 1\n",
    "    c = n**b\n",
    "print(\"La plus grande puissance de\", n,\"inférieure à un million est :\",  b-1)"
   ]
  }
 ],
 "metadata": {
  "celltoolbar": "Diaporama",
  "interpreter": {
   "hash": "768ae6910541a65767d33cdf45f17879d79df660a6890888d3305d2bf98ab898"
  },
  "kernelspec": {
   "display_name": "Python 3.9.7 64-bit ('l1-python': conda)",
   "name": "python3"
  },
  "language_info": {
   "codemirror_mode": {
    "name": "ipython",
    "version": 3
   },
   "file_extension": ".py",
   "mimetype": "text/x-python",
   "name": "python",
   "nbconvert_exporter": "python",
   "pygments_lexer": "ipython3",
   "version": "3.9.7"
  }
 },
 "nbformat": 4,
 "nbformat_minor": 4
}
